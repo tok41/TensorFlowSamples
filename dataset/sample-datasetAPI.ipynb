{
 "cells": [
  {
   "cell_type": "markdown",
   "metadata": {},
   "source": [
    "# DataSet APIの動作確認"
   ]
  },
  {
   "cell_type": "code",
   "execution_count": 1,
   "metadata": {},
   "outputs": [],
   "source": [
    "%matplotlib inline\n",
    "import matplotlib.pyplot as plt\n",
    "\n",
    "import tensorflow as tf"
   ]
  },
  {
   "cell_type": "code",
   "execution_count": 2,
   "metadata": {},
   "outputs": [],
   "source": [
    "sess = tf.InteractiveSession()"
   ]
  },
  {
   "cell_type": "markdown",
   "metadata": {},
   "source": [
    "## Util function\n",
    "- 画像リストファイル（CSV形式）から画像データセットを作成するための、補助関数"
   ]
  },
  {
   "cell_type": "code",
   "execution_count": 3,
   "metadata": {},
   "outputs": [],
   "source": [
    "def read_csv(filename):\n",
    "    \"\"\"\n",
    "    データファイルの定義ファイルを読み込むgeneratorを作る\n",
    "    \"\"\"\n",
    "    with open(filename, 'r') as f:\n",
    "        for line in f.readlines():\n",
    "            record = line.rstrip().split(',')\n",
    "            image_file = record[0]\n",
    "            label = int(record[1])\n",
    "            yield image_file, label\n",
    "\n",
    "def read_image(image_file, label):\n",
    "    contents = tf.read_file(image_file)\n",
    "    image = tf.image.decode_image(contents)  # 画像データを[0,1)の範囲に変換\n",
    "    image = tf.image.convert_image_dtype(image, dtype=tf.float32)\n",
    "    return image, label"
   ]
  },
  {
   "cell_type": "code",
   "execution_count": 4,
   "metadata": {},
   "outputs": [],
   "source": [
    "file_path = 'image_list_test.csv'\n",
    "n_batch = 5"
   ]
  },
  {
   "cell_type": "markdown",
   "metadata": {},
   "source": [
    "## one_shot_iterator\n",
    "- 入力データを一通り回すための最もシンプルなイテレータ"
   ]
  },
  {
   "cell_type": "code",
   "execution_count": 5,
   "metadata": {},
   "outputs": [],
   "source": [
    "def get_input_op(f_name):\n",
    "    \"\"\"\n",
    "    データ入力関数\n",
    "    \"\"\"\n",
    "    def generator(): return read_csv(f_name)  # generator\n",
    "\n",
    "    dataset = tf.data.Dataset.from_generator(\n",
    "        generator,\n",
    "        output_types=(tf.string, tf.int64),\n",
    "        output_shapes=(tf.TensorShape([]), tf.TensorShape([])))\n",
    "    dataset = dataset.map(read_image)\n",
    "    dataset = dataset.shuffle(10000)\n",
    "    dataset = dataset.batch(n_batch)\n",
    "    iterator = dataset.make_one_shot_iterator()\n",
    "    images, labels = iterator.get_next()\n",
    "    return images, labels"
   ]
  },
  {
   "cell_type": "code",
   "execution_count": 6,
   "metadata": {},
   "outputs": [
    {
     "name": "stdout",
     "output_type": "stream",
     "text": [
      "(5, 275, 370, 3), [1 0 1 0 0]\n",
      "(5, 275, 370, 3), [0 0 0 0 0]\n",
      "(5, 275, 370, 3), [0 0 0 0 0]\n",
      "(5, 275, 370, 3), [0 0 0 0 0]\n"
     ]
    }
   ],
   "source": [
    "test_images, test_labels = get_input_op(file_path)\n",
    "\n",
    "try:\n",
    "    while True:\n",
    "        xs, ys = sess.run([test_images, test_labels])\n",
    "        print('{}, {}'.format(xs.shape, ys))\n",
    "except tf.errors.OutOfRangeError:\n",
    "    pass"
   ]
  },
  {
   "cell_type": "markdown",
   "metadata": {},
   "source": [
    "## Initializable Iterator\n",
    "- データセットの状態を初期化して、一巡した後に明示的に次のepochを指定できる\n",
    "- iteratorを初期化するときに、一つ以上のplaceholderを使ってデータセットの定義をパラメータ化できる"
   ]
  },
  {
   "cell_type": "markdown",
   "metadata": {},
   "source": [
    "### Simple Example"
   ]
  },
  {
   "cell_type": "code",
   "execution_count": 7,
   "metadata": {
    "scrolled": true
   },
   "outputs": [
    {
     "name": "stdout",
     "output_type": "stream",
     "text": [
      "0\n",
      "1\n",
      "2\n",
      "next dataset\n",
      "0\n",
      "1\n",
      "2\n",
      "3\n",
      "4\n"
     ]
    }
   ],
   "source": [
    "range_param = tf.placeholder(tf.int64) # 初期化するパラメータのplaceholderを指定\n",
    "dataset = tf.data.Dataset.range(range_param)\n",
    "iterator = dataset.make_initializable_iterator()\n",
    "next_element = iterator.get_next()\n",
    "\n",
    "sess.run(iterator.initializer, feed_dict={range_param: 3})\n",
    "try:\n",
    "    while True:\n",
    "        print(sess.run(next_element))\n",
    "except tf.errors.OutOfRangeError:\n",
    "    pass\n",
    "\n",
    "print('next dataset')\n",
    "\n",
    "sess.run(iterator.initializer, feed_dict={range_param: 5})\n",
    "try:\n",
    "    while True:\n",
    "        print(sess.run(next_element))\n",
    "except tf.errors.OutOfRangeError:\n",
    "    pass"
   ]
  },
  {
   "cell_type": "markdown",
   "metadata": {},
   "source": [
    "### Read Image List File\n",
    "- ToDo\n",
    "    - file_pathをパラメータとしてiteratorの初期化ができないかしら(tryしたけど失敗した)"
   ]
  },
  {
   "cell_type": "code",
   "execution_count": 8,
   "metadata": {},
   "outputs": [],
   "source": [
    "class DataSetInitializable:\n",
    "    def __init__(self, file_path, n_batch):\n",
    "        self.file_path = file_path\n",
    "        self.n_batch = n_batch\n",
    "\n",
    "    def get_input_op(self):\n",
    "        \"\"\"\n",
    "        データ入力関数\n",
    "        \"\"\"\n",
    "        def generator():\n",
    "            return read_csv(self.file_path)  # generator\n",
    "        dataset = tf.data.Dataset.from_generator(\n",
    "            generator,\n",
    "            output_types=(tf.string, tf.int64),\n",
    "            output_shapes=(tf.TensorShape([]), tf.TensorShape([])))\\\n",
    "            .map(read_image)\n",
    "        dataset = dataset.shuffle(10000)\n",
    "        dataset = dataset.batch(self.n_batch)\n",
    "        iterator = dataset.make_initializable_iterator()\n",
    "        images, labels = iterator.get_next()\n",
    "        self.iterator = iterator\n",
    "        return images, labels"
   ]
  },
  {
   "cell_type": "code",
   "execution_count": 9,
   "metadata": {},
   "outputs": [
    {
     "name": "stdout",
     "output_type": "stream",
     "text": [
      "(5, 275, 370, 3), [0 0 0 0 0]\n",
      "(5, 275, 370, 3), [0 0 0 1 0]\n",
      "(5, 275, 370, 3), [0 0 1 0 0]\n",
      "(5, 275, 370, 3), [0 0 0 0 0]\n"
     ]
    }
   ],
   "source": [
    "dataset = DataSetInitializable(file_path=file_path, n_batch=n_batch)\n",
    "images, labels = dataset.get_input_op()\n",
    "\n",
    "sess.run(dataset.iterator.initializer) # 次のepochを回す際にもinitializerでiteratorの初期化する\n",
    "try:\n",
    "    while True:\n",
    "        xs, ys = sess.run([images, labels])\n",
    "        print('{}, {}'.format(xs.shape, ys))\n",
    "except tf.errors.OutOfRangeError:\n",
    "    pass"
   ]
  },
  {
   "cell_type": "markdown",
   "metadata": {},
   "source": [
    "## reinitializable Iterator\n",
    "- 複数のDatasetオブジェクトからIteratorを生成できる\n",
    "- 訓練データとテストデータを切り替えることができる"
   ]
  },
  {
   "cell_type": "markdown",
   "metadata": {},
   "source": [
    "### Simple Example"
   ]
  },
  {
   "cell_type": "code",
   "execution_count": 10,
   "metadata": {},
   "outputs": [
    {
     "name": "stdout",
     "output_type": "stream",
     "text": [
      "1\n",
      "6\n",
      "9\n",
      "7\n",
      "0\n",
      "14\n",
      "5\n",
      "-2\n",
      "-1\n",
      "12\n",
      "0\n",
      "1\n",
      "14\n",
      "16\n",
      "8\n",
      "23\n",
      "9\n",
      "26\n",
      "27\n",
      "22\n",
      "18\n",
      "19\n",
      "24\n",
      "24\n",
      "19\n",
      "30\n",
      "17\n",
      "17\n",
      "20\n",
      "30\n",
      "23\n",
      "27\n",
      "26\n",
      "38\n",
      "38\n",
      "28\n",
      "43\n",
      "45\n",
      "43\n",
      "40\n",
      "43\n",
      "37\n",
      "36\n",
      "37\n",
      "36\n",
      "40\n",
      "47\n",
      "42\n",
      "49\n",
      "41\n",
      "57\n",
      "56\n",
      "45\n",
      "57\n",
      "47\n",
      "54\n",
      "50\n",
      "56\n",
      "63\n",
      "66\n",
      "69\n",
      "56\n",
      "52\n",
      "61\n",
      "59\n",
      "68\n",
      "63\n",
      "72\n",
      "77\n",
      "60\n",
      "63\n",
      "67\n",
      "73\n",
      "71\n",
      "78\n",
      "82\n",
      "68\n",
      "73\n",
      "76\n",
      "87\n",
      "81\n",
      "75\n",
      "75\n",
      "84\n",
      "89\n",
      "84\n",
      "93\n",
      "91\n",
      "80\n",
      "89\n",
      "84\n",
      "83\n",
      "98\n",
      "97\n",
      "99\n",
      "100\n",
      "103\n",
      "92\n",
      "90\n",
      "97\n",
      "next dataset\n",
      "0\n",
      "1\n",
      "2\n",
      "3\n",
      "4\n",
      "5\n",
      "6\n",
      "7\n",
      "8\n",
      "9\n",
      "10\n",
      "11\n",
      "12\n",
      "13\n",
      "14\n",
      "15\n",
      "16\n",
      "17\n",
      "18\n",
      "19\n",
      "20\n",
      "21\n",
      "22\n",
      "23\n",
      "24\n",
      "25\n",
      "26\n",
      "27\n",
      "28\n",
      "29\n",
      "30\n",
      "31\n",
      "32\n",
      "33\n",
      "34\n",
      "35\n",
      "36\n",
      "37\n",
      "38\n",
      "39\n",
      "40\n",
      "41\n",
      "42\n",
      "43\n",
      "44\n",
      "45\n",
      "46\n",
      "47\n",
      "48\n",
      "49\n"
     ]
    }
   ],
   "source": [
    "# 二つの異なるdatasetを作る\n",
    "# *** 訓練データ:0~99の数値にランダムノイズを加えたデータ\n",
    "training_dataset = tf.data.Dataset.range(100).map(\n",
    "    lambda x: x + tf.random_uniform([], -10, 10, tf.int64))\n",
    "# *** 評価データ:0~49の数値列\n",
    "validation_dataset = tf.data.Dataset.range(50)\n",
    "\n",
    "# Iteratorの定義\n",
    "# ** データ構造をdatasetが持つプロパティ(output_types, output_shapes)で定義する\n",
    "iterator = tf.data.Iterator.from_structure(training_dataset.output_types,\n",
    "                                           training_dataset.output_shapes)\n",
    "next_element = iterator.get_next()\n",
    "\n",
    "# iteratorをそれぞれのデータセットで初期化するためのoperationの定義\n",
    "training_init_op = iterator.make_initializer(training_dataset)\n",
    "validation_init_op = iterator.make_initializer(validation_dataset)\n",
    "\n",
    "# 計算グラフの実行\n",
    "sess.run(training_init_op)\n",
    "try:\n",
    "    while True:\n",
    "        print(sess.run(next_element))\n",
    "except tf.errors.OutOfRangeError:\n",
    "    pass\n",
    "\n",
    "print('next dataset')\n",
    "\n",
    "sess.run(validation_init_op)\n",
    "try:\n",
    "    while True:\n",
    "        print(sess.run(next_element))\n",
    "except tf.errors.OutOfRangeError:\n",
    "    pass\n"
   ]
  },
  {
   "cell_type": "markdown",
   "metadata": {},
   "source": [
    "### Read Image List File"
   ]
  },
  {
   "cell_type": "code",
   "execution_count": 11,
   "metadata": {},
   "outputs": [],
   "source": [
    "class DataSetReInitializable:\n",
    "    def __init__(self, file_path, n_batch):\n",
    "        self.file_path = file_path\n",
    "        self.n_batch = n_batch\n",
    "\n",
    "    def get_input_dataset(self):\n",
    "        def generator():\n",
    "            return read_csv(self.file_path)  # generator\n",
    "        dataset = tf.data.Dataset.from_generator(\n",
    "            generator,\n",
    "            output_types=(tf.string, tf.int64),\n",
    "            output_shapes=(tf.TensorShape([]), tf.TensorShape([])))\\\n",
    "            .map(read_image)\n",
    "        dataset = dataset.shuffle(10000)\n",
    "        dataset = dataset.batch(self.n_batch)\n",
    "        return dataset"
   ]
  },
  {
   "cell_type": "code",
   "execution_count": 12,
   "metadata": {},
   "outputs": [],
   "source": [
    "# dataset\n",
    "train_ds = DataSetReInitializable(file_path='image_list_train.csv', n_batch=n_batch)\n",
    "train_dataset = train_ds.get_input_dataset()\n",
    "valid_ds = DataSetReInitializable(file_path='image_list_test.csv', n_batch=n_batch)\n",
    "valid_dataset = valid_ds.get_input_dataset()\n"
   ]
  },
  {
   "cell_type": "code",
   "execution_count": 13,
   "metadata": {},
   "outputs": [
    {
     "name": "stdout",
     "output_type": "stream",
     "text": [
      "(5, 275, 370, 3), [0 0 0 0 0]\n",
      "(5, 275, 370, 3), [0 0 0 0 0]\n",
      "(5, 275, 370, 3), [0 1 1 0 0]\n",
      "(5, 275, 370, 3), [0 0 0 0 0]\n",
      "(5, 275, 370, 3), [0 0 0 0 0]\n",
      "(5, 275, 370, 3), [0 0 0 0 0]\n",
      "(5, 275, 370, 3), [0 0 0 0 0]\n",
      "(5, 275, 370, 3), [0 0 0 1 0]\n",
      "(5, 275, 370, 3), [0 0 0 0 0]\n",
      "(5, 275, 370, 3), [0 1 0 0 0]\n",
      "(5, 275, 370, 3), [0 0 0 0 0]\n",
      "(5, 275, 370, 3), [0 0 0 0 0]\n",
      "(5, 275, 370, 3), [0 0 0 0 0]\n",
      "(5, 275, 370, 3), [0 0 0 0 0]\n",
      "(4, 275, 370, 3), [0 0 0 0]\n",
      "next dataset\n",
      "(5, 275, 370, 3), [0 0 0 0 0]\n",
      "(5, 275, 370, 3), [0 0 0 0 0]\n",
      "(5, 275, 370, 3), [1 0 0 0 0]\n",
      "(5, 275, 370, 3), [0 1 0 0 0]\n"
     ]
    }
   ],
   "source": [
    "# Iteratorの定義\n",
    "# ** データ構造をdatasetが持つプロパティ(output_types, output_shapes)で定義する\n",
    "iterator = tf.data.Iterator.from_structure(train_dataset.output_types,\n",
    "                                           train_dataset.output_shapes)\n",
    "next_element = iterator.get_next()\n",
    "\n",
    "# iteratorをそれぞれのデータセットで初期化するためのoperationの定義\n",
    "training_init_op = iterator.make_initializer(train_dataset)\n",
    "validation_init_op = iterator.make_initializer(valid_dataset)\n",
    "\n",
    "# 計算グラフの実行\n",
    "sess.run(training_init_op)\n",
    "try:\n",
    "    while True:\n",
    "        images, labels = sess.run(next_element)\n",
    "        print('{}, {}'.format(images.shape, labels))\n",
    "except tf.errors.OutOfRangeError:\n",
    "    pass\n",
    "\n",
    "print('next dataset')\n",
    "\n",
    "sess.run(validation_init_op)\n",
    "try:\n",
    "    while True:\n",
    "        images, labels = sess.run(next_element)\n",
    "        print('{}, {}'.format(images.shape, labels))\n",
    "except tf.errors.OutOfRangeError:\n",
    "    pass\n"
   ]
  },
  {
   "cell_type": "code",
   "execution_count": null,
   "metadata": {},
   "outputs": [],
   "source": []
  }
 ],
 "metadata": {
  "kernelspec": {
   "display_name": "Python 3",
   "language": "python",
   "name": "python3"
  },
  "language_info": {
   "codemirror_mode": {
    "name": "ipython",
    "version": 3
   },
   "file_extension": ".py",
   "mimetype": "text/x-python",
   "name": "python",
   "nbconvert_exporter": "python",
   "pygments_lexer": "ipython3",
   "version": "3.6.4"
  },
  "toc": {
   "base_numbering": 1,
   "nav_menu": {},
   "number_sections": true,
   "sideBar": true,
   "skip_h1_title": false,
   "title_cell": "Table of Contents",
   "title_sidebar": "Contents",
   "toc_cell": false,
   "toc_position": {},
   "toc_section_display": true,
   "toc_window_display": true
  }
 },
 "nbformat": 4,
 "nbformat_minor": 2
}
