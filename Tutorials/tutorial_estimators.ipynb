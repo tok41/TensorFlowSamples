{
 "cells": [
  {
   "cell_type": "code",
   "execution_count": 1,
   "metadata": {},
   "outputs": [
    {
     "name": "stderr",
     "output_type": "stream",
     "text": [
      "/home/yoichi/.pyenv/versions/anaconda2-4.3.0/envs/choco3/lib/python3.6/site-packages/h5py/__init__.py:36: FutureWarning: Conversion of the second argument of issubdtype from `float` to `np.floating` is deprecated. In future, it will be treated as `np.float64 == np.dtype(float).type`.\n",
      "  from ._conv import register_converters as _register_converters\n"
     ]
    }
   ],
   "source": [
    "import tensorflow as tf"
   ]
  },
  {
   "cell_type": "markdown",
   "metadata": {},
   "source": [
    "# Estimators\n",
    "- Estimatorsは以下の4つの機能をカプセル化する\n",
    "    - training\n",
    "    - evaluation\n",
    "    - prediction\n",
    "    - export for serving\n",
    "- pre-madeなEstimatorsか自作のEstimatorsのどちらかを使う。\n",
    "    - どちらも、tf.estimator.Estimatorクラスをベースにする\n",
    "\n",
    "https://www.tensorflow.org/versions/r1.8/programmers_guide/estimators"
   ]
  },
  {
   "cell_type": "markdown",
   "metadata": {},
   "source": [
    "## Advantages of Estimators\n",
    "- どの環境でも動く(local host, 分散multi-server)\n",
    "- モデル開発者間での実装の共有を簡素化\n",
    "- Estimatorsがグラフを作成する（明確に自分でグラフを書かなくて良い）\n",
    "- モデルからdata input パイプラインを分離して書く必要がある。この分離で、異なるデータセットでの実験が容易になる"
   ]
  },
  {
   "cell_type": "markdown",
   "metadata": {},
   "source": [
    "## Pre-made Estimators\n",
    "- pre-madeなEstimatorsはGraphとSessionの作成と管理を自動でやってくれる\n",
    "- コード変更を最小限に抑えられるので、様々な構造のモデルを試すことができる\n",
    "- 例えば、DNNClassifierは分類モデルを学習する"
   ]
  },
  {
   "cell_type": "markdown",
   "metadata": {},
   "source": [
    "### Structure of a pre-made Estimators program\n",
    "pre-made Estimatorsを利用するコードは以下の4つのステップで構成される\n",
    "- 1, dataset入力関数を書く\n",
    "    - 訓練データを入力する関数と、テストデータを入力する関数。それぞれの関数は二つのオブジェクトを返す必要がある\n",
    "        - keyが特徴名で、valueがテンソルの辞書\n",
    "        - ラベルのテンソル\n",
    "\n",
    "```\n",
    "def input_fn(dataset):\n",
    "   ...  # manipulate dataset, extracting feature names and the label\n",
    "   return feature_dict, label\n",
    "```"
   ]
  },
  {
   "cell_type": "markdown",
   "metadata": {},
   "source": [
    "- 2, 特徴列の定義\n",
    "    - tf.feature_columnは特徴名、型、前処理を特定する。\n",
    "    - 下記の例では、3つの特徴列を作成している\n",
    "        - 最初の二つはシンプルに特徴名と型を\n",
    "        - 3つめの特徴列はlambda式を使って前処理を施している\n",
    "\n",
    "```\n",
    "# Define three numeric feature columns.\n",
    "population = tf.feature_column.numeric_column('population')\n",
    "crime_rate = tf.feature_column.numeric_column('crime_rate')\n",
    "median_education = tf.feature_column.numeric_column('median_education',\n",
    "                    normalizer_fn='lambda x: x - global_education_mean')\n",
    "```\n"
   ]
  },
  {
   "cell_type": "markdown",
   "metadata": {},
   "source": [
    "- 3, 関連するpre-made-Estimaterをインスタンス化する\n",
    "    - 以下の例では、LinearClassifierをインスタンス化する\n",
    "\n",
    "```\n",
    "# Instantiate an estimator, passing the feature columns.\n",
    "estimator = tf.estimator.Estimator.LinearClassifier(\n",
    "    feature_columns=[population, crime_rate, median_education],\n",
    "    )\n",
    "```\n"
   ]
  },
  {
   "cell_type": "markdown",
   "metadata": {},
   "source": [
    "- training, evaluation, inferenceメソッドを呼ぶ\n",
    "\n",
    "```\n",
    "# my_training_set is the function created in Step 1\n",
    "estimator.train(input_fn=my_training_set, steps=2000)\n",
    "```"
   ]
  },
  {
   "cell_type": "code",
   "execution_count": null,
   "metadata": {},
   "outputs": [],
   "source": []
  }
 ],
 "metadata": {
  "kernelspec": {
   "display_name": "Python 3",
   "language": "python",
   "name": "python3"
  },
  "language_info": {
   "codemirror_mode": {
    "name": "ipython",
    "version": 3
   },
   "file_extension": ".py",
   "mimetype": "text/x-python",
   "name": "python",
   "nbconvert_exporter": "python",
   "pygments_lexer": "ipython3",
   "version": "3.6.4"
  },
  "toc": {
   "base_numbering": 1,
   "nav_menu": {},
   "number_sections": true,
   "sideBar": true,
   "skip_h1_title": false,
   "title_cell": "Table of Contents",
   "title_sidebar": "Contents",
   "toc_cell": false,
   "toc_position": {},
   "toc_section_display": true,
   "toc_window_display": true
  }
 },
 "nbformat": 4,
 "nbformat_minor": 2
}
