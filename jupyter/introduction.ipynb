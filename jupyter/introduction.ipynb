{
 "cells": [
  {
   "cell_type": "markdown",
   "metadata": {},
   "source": [
    "# はじめに\n",
    "- 「TensorFlowで始めるDeepLearning実践入門」を読みながらメモをしたnotebook"
   ]
  },
  {
   "cell_type": "markdown",
   "metadata": {},
   "source": [
    "# 計算グラフとDefine and Run\n",
    "- Define and Run : 宣言と実行を分ける。計算グラフを定義し、その後に値の代入と実行が行われる\n",
    "    - TensorFlow, Theano\n",
    "- Define by Run : 宣言と実行が同時に行われる。pythonで何も考えないときはこっちの考え方\n",
    "    - Chainer, Torch\n",
    "- TensorFlowとChainerではプログラミングの思想が違う。一見するとChainerが書きやすいが、抽象度が増して最終的に効率が良いのはTensorFlowだったりするのかな？"
   ]
  },
  {
   "cell_type": "code",
   "execution_count": 1,
   "metadata": {
    "scrolled": true
   },
   "outputs": [
    {
     "name": "stderr",
     "output_type": "stream",
     "text": [
      "/home/yoichi/.pyenv/versions/anaconda2-4.3.0/envs/choco3/lib/python3.6/site-packages/h5py/__init__.py:36: FutureWarning: Conversion of the second argument of issubdtype from `float` to `np.floating` is deprecated. In future, it will be treated as `np.float64 == np.dtype(float).type`.\n",
      "  from ._conv import register_converters as _register_converters\n"
     ]
    }
   ],
   "source": [
    "import tensorflow as tf"
   ]
  },
  {
   "cell_type": "code",
   "execution_count": 2,
   "metadata": {},
   "outputs": [
    {
     "name": "stdout",
     "output_type": "stream",
     "text": [
      "9\n",
      "18\n",
      "27\n"
     ]
    }
   ],
   "source": [
    "a = tf.constant(3, name='const1') # 定数を出力するオペレーション\n",
    "b = tf.Variable(0, name='val1') # 変数を出力するオペレーション\n",
    "\n",
    "# a+bの計算グラフを作る\n",
    "add = tf.add(a, b)\n",
    "\n",
    "# 変数bに足した結果をアサイン。変数に値を割り当てる。\n",
    "assign = tf.assign(b, add)\n",
    "\n",
    "c = tf.placeholder(tf.int32, name='input') # 実行するまで値が決まらないもの。型だけ宣言。\n",
    "# 実行時には、辞書型で値を入れる\n",
    "\n",
    "# アサインした結果とcを掛ける\n",
    "mul = tf.multiply(assign, c)\n",
    "\n",
    "# 変数の初期化のためのオペレーションを作成\n",
    "init = tf.global_variables_initializer()\n",
    "\n",
    "with tf.Session() as sess:\n",
    "    sess.run(init) # 初期化を実行\n",
    "    for i in range(3):\n",
    "        print(sess.run(mul, feed_dict={c:3}))\n",
    "        # feed_dict : placeholderに値を渡すための引数\n"
   ]
  },
  {
   "cell_type": "markdown",
   "metadata": {},
   "source": [
    "- tf.Session : 構築した計算グラフを実行するための概念\n",
    "    - sessionの中で計算グラフを引数にしてrunすると、計算グラフが実行される"
   ]
  },
  {
   "cell_type": "markdown",
   "metadata": {},
   "source": [
    "# MLPでMNIST"
   ]
  },
  {
   "cell_type": "markdown",
   "metadata": {},
   "source": [
    "## データ取得"
   ]
  },
  {
   "cell_type": "code",
   "execution_count": 3,
   "metadata": {
    "scrolled": true
   },
   "outputs": [
    {
     "name": "stdout",
     "output_type": "stream",
     "text": [
      "WARNING:tensorflow:From <ipython-input-3-706eeeab7009>:5: read_data_sets (from tensorflow.contrib.learn.python.learn.datasets.mnist) is deprecated and will be removed in a future version.\n",
      "Instructions for updating:\n",
      "Please use alternatives such as official/mnist/dataset.py from tensorflow/models.\n",
      "WARNING:tensorflow:From /home/yoichi/.pyenv/versions/anaconda2-4.3.0/envs/choco3/lib/python3.6/site-packages/tensorflow/contrib/learn/python/learn/datasets/mnist.py:260: maybe_download (from tensorflow.contrib.learn.python.learn.datasets.base) is deprecated and will be removed in a future version.\n",
      "Instructions for updating:\n",
      "Please write your own downloading logic.\n",
      "WARNING:tensorflow:From /home/yoichi/.pyenv/versions/anaconda2-4.3.0/envs/choco3/lib/python3.6/site-packages/tensorflow/contrib/learn/python/learn/datasets/mnist.py:262: extract_images (from tensorflow.contrib.learn.python.learn.datasets.mnist) is deprecated and will be removed in a future version.\n",
      "Instructions for updating:\n",
      "Please use tf.data to implement this functionality.\n",
      "Extracting data/train-images-idx3-ubyte.gz\n",
      "WARNING:tensorflow:From /home/yoichi/.pyenv/versions/anaconda2-4.3.0/envs/choco3/lib/python3.6/site-packages/tensorflow/contrib/learn/python/learn/datasets/mnist.py:267: extract_labels (from tensorflow.contrib.learn.python.learn.datasets.mnist) is deprecated and will be removed in a future version.\n",
      "Instructions for updating:\n",
      "Please use tf.data to implement this functionality.\n",
      "Extracting data/train-labels-idx1-ubyte.gz\n",
      "WARNING:tensorflow:From /home/yoichi/.pyenv/versions/anaconda2-4.3.0/envs/choco3/lib/python3.6/site-packages/tensorflow/contrib/learn/python/learn/datasets/mnist.py:110: dense_to_one_hot (from tensorflow.contrib.learn.python.learn.datasets.mnist) is deprecated and will be removed in a future version.\n",
      "Instructions for updating:\n",
      "Please use tf.one_hot on tensors.\n",
      "Extracting data/t10k-images-idx3-ubyte.gz\n",
      "Extracting data/t10k-labels-idx1-ubyte.gz\n",
      "WARNING:tensorflow:From /home/yoichi/.pyenv/versions/anaconda2-4.3.0/envs/choco3/lib/python3.6/site-packages/tensorflow/contrib/learn/python/learn/datasets/mnist.py:290: DataSet.__init__ (from tensorflow.contrib.learn.python.learn.datasets.mnist) is deprecated and will be removed in a future version.\n",
      "Instructions for updating:\n",
      "Please use alternatives such as official/mnist/dataset.py from tensorflow/models.\n"
     ]
    }
   ],
   "source": [
    "from tensorflow.examples.tutorials.mnist import input_data\n",
    "import tensorflow as tf\n",
    "\n",
    "# MNISTデータのオブジェクトを呼び出す\n",
    "mnist = input_data.read_data_sets(\"data/\", one_hot=True)\n",
    "\n",
    "# 訓練データの取得\n",
    "# ## ミニバッチを指定して、バッチ分づつデータを取得するオペレーションを作成\n",
    "train_images, train_labels = mnist.train.next_batch(50)\n",
    "\n",
    "# テスト用データの取得\n",
    "test_images = mnist.test.images\n",
    "test_labels = mnist.test.labels"
   ]
  },
  {
   "cell_type": "code",
   "execution_count": 4,
   "metadata": {},
   "outputs": [
    {
     "name": "stdout",
     "output_type": "stream",
     "text": [
      "(50, 784)\n",
      "(50, 10)\n",
      "(10000, 784)\n",
      "(10000, 10)\n"
     ]
    }
   ],
   "source": [
    "print(train_images.shape)\n",
    "print(train_labels.shape)\n",
    "print(test_images.shape)\n",
    "print(test_labels.shape)"
   ]
  },
  {
   "cell_type": "markdown",
   "metadata": {},
   "source": [
    "## モデル定義"
   ]
  },
  {
   "cell_type": "code",
   "execution_count": 5,
   "metadata": {
    "collapsed": true
   },
   "outputs": [],
   "source": [
    "# 入力層\n",
    "x = tf.placeholder(tf.float32, [None, 784])\n",
    "# ** 入力データは固定のデータではないので、placeholderで定義\n",
    "# ** バッチ分入力するがサイズは未指定としてNoneを入力\n",
    "\n",
    "# 中間層\n",
    "w_1 = tf.Variable(tf.truncated_normal([784, 64], stddev=0.1), name=\"w1\")\n",
    "    # truncated_normal : 正規分布で初期値を指定する\n",
    "b_1 = tf.Variable(tf.zeros([64]), name=\"b1\")\n",
    "h_1 = tf.nn.relu(tf.matmul(x, w_1) + b_1)\n",
    "    # 内積(FC層)してreluを掛ける\n",
    "\n",
    "# 出力層\n",
    "w_2 = tf.Variable(tf.truncated_normal([64, 10], stddev=0.1), name=\"w2\")\n",
    "b_2 = tf.Variable(tf.zeros([10]), name=\"b2\")\n",
    "out = tf.nn.softmax(tf.matmul(h_1, w_2) + b_2)"
   ]
  },
  {
   "cell_type": "markdown",
   "metadata": {},
   "source": [
    "- tf.truncated_normal : 切断正規分布を生成する。正規分布のminとmaxをある値で切った分布。stddevの2倍が設定されるらしい"
   ]
  },
  {
   "cell_type": "markdown",
   "metadata": {},
   "source": [
    "## 誤差関数の定義"
   ]
  },
  {
   "cell_type": "code",
   "execution_count": 6,
   "metadata": {
    "collapsed": true
   },
   "outputs": [],
   "source": [
    "y = tf.placeholder(tf.float32, [None, 10]) # 正解データを入力する箱を用意\n",
    "# 誤差関数の定義\n",
    "loss = tf.reduce_mean(tf.square(y - out))\n",
    "\n",
    "# 訓練のオペレーション定義\n",
    "train_step = tf.train.GradientDescentOptimizer(0.5).minimize(loss)\n",
    "    # SGDをoptimizerとして最適化する。学習率は0.5"
   ]
  },
  {
   "cell_type": "markdown",
   "metadata": {},
   "source": [
    "- reduce_mean:テンソルの平均を計算するメソッド。axis引数で平均をとる軸を指定できる。指定しない場合、全要素の平均を計算。numpy.meanと同じ動き。\n",
    "- minimize:最適化の命令。内部ではcompute_gradients()とapply_gradients()を続けて実行。分散処理をする場合には、分けて実行する必要がある。が、通常は、minimizeを呼べば良い。\n"
   ]
  },
  {
   "cell_type": "markdown",
   "metadata": {},
   "source": [
    "## 評価"
   ]
  },
  {
   "cell_type": "code",
   "execution_count": 7,
   "metadata": {
    "collapsed": true
   },
   "outputs": [],
   "source": [
    "correct = tf.equal(tf.argmax(out,1), tf.argmax(y,1)) # argmaxの第2引数はaxis\n",
    "accuracy = tf.reduce_mean(tf.cast(correct, tf.float32))"
   ]
  },
  {
   "cell_type": "markdown",
   "metadata": {},
   "source": [
    "## 計算グラフの実行"
   ]
  },
  {
   "cell_type": "code",
   "execution_count": 8,
   "metadata": {
    "scrolled": true
   },
   "outputs": [
    {
     "name": "stdout",
     "output_type": "stream",
     "text": [
      "Step 10: accuracy = 0.13\n",
      "Step 20: accuracy = 0.15\n",
      "Step 30: accuracy = 0.17\n",
      "Step 40: accuracy = 0.20\n",
      "Step 50: accuracy = 0.23\n",
      "Step 60: accuracy = 0.29\n",
      "Step 70: accuracy = 0.36\n",
      "Step 80: accuracy = 0.40\n",
      "Step 90: accuracy = 0.44\n",
      "Step 100: accuracy = 0.46\n",
      "Step 110: accuracy = 0.45\n",
      "Step 120: accuracy = 0.47\n",
      "Step 130: accuracy = 0.47\n",
      "Step 140: accuracy = 0.49\n",
      "Step 150: accuracy = 0.53\n",
      "Step 160: accuracy = 0.54\n",
      "Step 170: accuracy = 0.57\n",
      "Step 180: accuracy = 0.60\n",
      "Step 190: accuracy = 0.61\n",
      "Step 200: accuracy = 0.64\n",
      "Step 210: accuracy = 0.65\n",
      "Step 220: accuracy = 0.66\n",
      "Step 230: accuracy = 0.68\n",
      "Step 240: accuracy = 0.68\n",
      "Step 250: accuracy = 0.70\n",
      "Step 260: accuracy = 0.71\n",
      "Step 270: accuracy = 0.72\n",
      "Step 280: accuracy = 0.73\n",
      "Step 290: accuracy = 0.73\n",
      "Step 300: accuracy = 0.74\n",
      "Step 310: accuracy = 0.74\n",
      "Step 320: accuracy = 0.76\n",
      "Step 330: accuracy = 0.76\n",
      "Step 340: accuracy = 0.77\n",
      "Step 350: accuracy = 0.78\n",
      "Step 360: accuracy = 0.77\n",
      "Step 370: accuracy = 0.78\n",
      "Step 380: accuracy = 0.80\n",
      "Step 390: accuracy = 0.80\n",
      "Step 400: accuracy = 0.81\n",
      "Step 410: accuracy = 0.82\n",
      "Step 420: accuracy = 0.82\n",
      "Step 430: accuracy = 0.83\n",
      "Step 440: accuracy = 0.83\n",
      "Step 450: accuracy = 0.84\n",
      "Step 460: accuracy = 0.84\n",
      "Step 470: accuracy = 0.85\n",
      "Step 480: accuracy = 0.85\n",
      "Step 490: accuracy = 0.85\n",
      "Step 500: accuracy = 0.85\n",
      "Step 510: accuracy = 0.85\n",
      "Step 520: accuracy = 0.85\n",
      "Step 530: accuracy = 0.86\n",
      "Step 540: accuracy = 0.86\n",
      "Step 550: accuracy = 0.86\n",
      "Step 560: accuracy = 0.86\n",
      "Step 570: accuracy = 0.87\n",
      "Step 580: accuracy = 0.86\n",
      "Step 590: accuracy = 0.86\n",
      "Step 600: accuracy = 0.87\n",
      "Step 610: accuracy = 0.87\n",
      "Step 620: accuracy = 0.86\n",
      "Step 630: accuracy = 0.87\n",
      "Step 640: accuracy = 0.87\n",
      "Step 650: accuracy = 0.87\n",
      "Step 660: accuracy = 0.88\n",
      "Step 670: accuracy = 0.87\n",
      "Step 680: accuracy = 0.88\n",
      "Step 690: accuracy = 0.88\n",
      "Step 700: accuracy = 0.88\n",
      "Step 710: accuracy = 0.88\n",
      "Step 720: accuracy = 0.88\n",
      "Step 730: accuracy = 0.88\n",
      "Step 740: accuracy = 0.88\n",
      "Step 750: accuracy = 0.88\n",
      "Step 760: accuracy = 0.88\n",
      "Step 770: accuracy = 0.88\n",
      "Step 780: accuracy = 0.88\n",
      "Step 790: accuracy = 0.88\n",
      "Step 800: accuracy = 0.89\n",
      "Step 810: accuracy = 0.89\n",
      "Step 820: accuracy = 0.89\n",
      "Step 830: accuracy = 0.89\n",
      "Step 840: accuracy = 0.89\n",
      "Step 850: accuracy = 0.89\n",
      "Step 860: accuracy = 0.89\n",
      "Step 870: accuracy = 0.89\n",
      "Step 880: accuracy = 0.89\n",
      "Step 890: accuracy = 0.89\n",
      "Step 900: accuracy = 0.89\n",
      "Step 910: accuracy = 0.89\n",
      "Step 920: accuracy = 0.89\n",
      "Step 930: accuracy = 0.89\n",
      "Step 940: accuracy = 0.89\n",
      "Step 950: accuracy = 0.89\n",
      "Step 960: accuracy = 0.89\n",
      "Step 970: accuracy = 0.89\n",
      "Step 980: accuracy = 0.89\n",
      "Step 990: accuracy = 0.89\n",
      "Step 1000: accuracy = 0.89\n"
     ]
    }
   ],
   "source": [
    "# 初期化\n",
    "init = tf.global_variables_initializer()\n",
    "\n",
    "# 実行\n",
    "with tf.Session() as sess:\n",
    "    sess.run(init)\n",
    "    \n",
    "    #テストデータをロード\n",
    "    test_images = mnist.test.images\n",
    "    test_labels = mnist.test.labels\n",
    "    \n",
    "    for i in range(1000):\n",
    "        step = i + 1\n",
    "        train_images, train_labels = mnist.train.next_batch(50)\n",
    "        sess.run(train_step, feed_dict={x:train_images, y:train_labels})\n",
    "        \n",
    "        if step % 10 == 0:\n",
    "            acc_val = sess.run(accuracy, feed_dict={x:test_images, y:test_labels})\n",
    "            print('Step %d: accuracy = %.2f'%(step, acc_val))"
   ]
  },
  {
   "cell_type": "code",
   "execution_count": null,
   "metadata": {
    "collapsed": true
   },
   "outputs": [],
   "source": []
  }
 ],
 "metadata": {
  "kernelspec": {
   "display_name": "Python 3",
   "language": "python",
   "name": "python3"
  },
  "language_info": {
   "codemirror_mode": {
    "name": "ipython",
    "version": 3
   },
   "file_extension": ".py",
   "mimetype": "text/x-python",
   "name": "python",
   "nbconvert_exporter": "python",
   "pygments_lexer": "ipython3",
   "version": "3.6.4"
  },
  "toc": {
   "base_numbering": 1,
   "nav_menu": {},
   "number_sections": true,
   "sideBar": true,
   "skip_h1_title": false,
   "title_cell": "Table of Contents",
   "title_sidebar": "Contents",
   "toc_cell": false,
   "toc_position": {},
   "toc_section_display": true,
   "toc_window_display": true
  }
 },
 "nbformat": 4,
 "nbformat_minor": 2
}
