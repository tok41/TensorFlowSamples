{
 "cells": [
  {
   "cell_type": "markdown",
   "metadata": {},
   "source": [
    "# はじめに\n",
    "- 「TensorFlowで始めるDeepLearning実践入門」を読みながらメモをしたnotebook"
   ]
  },
  {
   "cell_type": "markdown",
   "metadata": {},
   "source": [
    "# 計算グラフとDefine and Run\n",
    "- Define and Run : 宣言と実行を分ける。計算グラフを定義し、その後に値の代入と実行が行われる\n",
    "    - TensorFlow, Theano\n",
    "- Define by Run : 宣言と実行が同時に行われる。pythonで何も考えないときはこっちの考え方\n",
    "    - Chainer, Torch\n",
    "- TensorFlowとChainerではプログラミングの思想が違う。一見するとChainerが書きやすいが、抽象度が増して最終的に効率が良いのはTensorFlowだったりするのかな？"
   ]
  },
  {
   "cell_type": "code",
   "execution_count": 3,
   "metadata": {
    "scrolled": true
   },
   "outputs": [],
   "source": [
    "import tensorflow as tf"
   ]
  },
  {
   "cell_type": "code",
   "execution_count": 2,
   "metadata": {},
   "outputs": [
    {
     "name": "stdout",
     "output_type": "stream",
     "text": [
      "9\n",
      "18\n",
      "27\n"
     ]
    }
   ],
   "source": [
    "a = tf.constant(3, name='const1') # 定数を出力するオペレーション\n",
    "b = tf.Variable(0, name='val1') # 変数を出力するオペレーション\n",
    "\n",
    "# a+bの計算グラフを作る\n",
    "add = tf.add(a, b)\n",
    "\n",
    "# 変数bに足した結果をアサイン。変数に値を割り当てる。\n",
    "assign = tf.assign(b, add)\n",
    "\n",
    "c = tf.placeholder(tf.int32, name='input') # 実行するまで値が決まらないもの。型だけ宣言。\n",
    "# 実行時には、辞書型で値を入れる\n",
    "\n",
    "# アサインした結果とcを掛ける\n",
    "mul = tf.multiply(assign, c)\n",
    "\n",
    "# 変数の初期化のためのオペレーションを作成\n",
    "init = tf.global_variables_initializer()\n",
    "\n",
    "with tf.Session() as sess:\n",
    "    sess.run(init) # 初期化を実行\n",
    "    for i in range(3):\n",
    "        print(sess.run(mul, feed_dict={c:3}))\n",
    "        # feed_dict : placeholderに値を渡すための引数\n"
   ]
  },
  {
   "cell_type": "markdown",
   "metadata": {},
   "source": [
    "- tf.Session : 構築した計算グラフを実行するための概念\n"
   ]
  },
  {
   "cell_type": "code",
   "execution_count": null,
   "metadata": {},
   "outputs": [],
   "source": []
  }
 ],
 "metadata": {
  "kernelspec": {
   "display_name": "Python 3",
   "language": "python",
   "name": "python3"
  },
  "language_info": {
   "codemirror_mode": {
    "name": "ipython",
    "version": 3
   },
   "file_extension": ".py",
   "mimetype": "text/x-python",
   "name": "python",
   "nbconvert_exporter": "python",
   "pygments_lexer": "ipython3",
   "version": "3.6.4"
  },
  "toc": {
   "base_numbering": 1,
   "nav_menu": {},
   "number_sections": true,
   "sideBar": true,
   "skip_h1_title": false,
   "title_cell": "Table of Contents",
   "title_sidebar": "Contents",
   "toc_cell": false,
   "toc_position": {},
   "toc_section_display": true,
   "toc_window_display": false
  }
 },
 "nbformat": 4,
 "nbformat_minor": 2
}
