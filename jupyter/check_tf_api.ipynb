{
 "cells": [
  {
   "cell_type": "markdown",
   "metadata": {},
   "source": [
    "# TensorFlowAPIのテスト"
   ]
  },
  {
   "cell_type": "code",
   "execution_count": 1,
   "metadata": {},
   "outputs": [
    {
     "name": "stderr",
     "output_type": "stream",
     "text": [
      "/home/yoichi/.pyenv/versions/anaconda2-4.3.0/envs/choco3/lib/python3.6/site-packages/h5py/__init__.py:36: FutureWarning: Conversion of the second argument of issubdtype from `float` to `np.floating` is deprecated. In future, it will be treated as `np.float64 == np.dtype(float).type`.\n",
      "  from ._conv import register_converters as _register_converters\n"
     ]
    }
   ],
   "source": [
    "import sys, os\n",
    "%matplotlib inline\n",
    "import matplotlib.pyplot as plt\n",
    "\n",
    "import tensorflow as tf\n",
    "import numpy as np\n",
    "import pandas as pd"
   ]
  },
  {
   "cell_type": "markdown",
   "metadata": {},
   "source": [
    "## 切断正規分布:truncated_normal\n",
    "- https://www.tensorflow.org/api_docs/python/tf/truncated_normal"
   ]
  },
  {
   "cell_type": "code",
   "execution_count": 2,
   "metadata": {},
   "outputs": [],
   "source": [
    "x = tf.truncated_normal(shape=[10000], mean=0.0, stddev=1.0, dtype=tf.float32)\n",
    "\n",
    "sess = tf.Session()\n",
    "y = sess.run(x)"
   ]
  },
  {
   "cell_type": "code",
   "execution_count": 3,
   "metadata": {},
   "outputs": [
    {
     "name": "stdout",
     "output_type": "stream",
     "text": [
      "(10000,)\n"
     ]
    },
    {
     "data": {
      "image/png": "[encoded data removed]",
      "text/plain": [
       "<Figure size 432x288 with 1 Axes>"
      ]
     },
     "metadata": {},
     "output_type": "display_data"
    }
   ],
   "source": [
    "print(y.shape)\n",
    "\n",
    "ret = plt.hist(y, bins=50)"
   ]
  },
  {
   "cell_type": "markdown",
   "metadata": {},
   "source": [
    "## 内積:matmul\n",
    "- https://www.tensorflow.org/api_docs/python/tf/matmul"
   ]
  },
  {
   "cell_type": "code",
   "execution_count": 4,
   "metadata": {},
   "outputs": [
    {
     "name": "stdout",
     "output_type": "stream",
     "text": [
      "[[ 58  64]\n",
      " [139 154]]\n"
     ]
    }
   ],
   "source": [
    "## 2-D tensor\n",
    "a = tf.constant([1,2,3,4,5,6], shape=[2,3])\n",
    "b = tf.constant([7,8,9,10,11,12], shape=[3,2])\n",
    "c = tf.matmul(a, b)\n",
    "\n",
    "sess = tf.Session()\n",
    "y = sess.run(c)\n",
    "print(y)"
   ]
  },
  {
   "cell_type": "code",
   "execution_count": 5,
   "metadata": {},
   "outputs": [
    {
     "name": "stdout",
     "output_type": "stream",
     "text": [
      "[[[ 94 100]\n",
      "  [229 244]]\n",
      "\n",
      " [[508 532]\n",
      "  [697 730]]]\n"
     ]
    }
   ],
   "source": [
    "## 3-D tensor\n",
    "a = tf.constant(np.arange(1, 13, dtype=np.int32), shape=[2, 2, 3])\n",
    "b = tf.constant(np.arange(13, 25, dtype=np.int32), shape=[2, 3, 2])\n",
    "c = tf.matmul(a, b)\n",
    "\n",
    "sess = tf.Session()\n",
    "y = sess.run(c)\n",
    "print(y)"
   ]
  },
  {
   "cell_type": "code",
   "execution_count": 6,
   "metadata": {},
   "outputs": [
    {
     "name": "stdout",
     "output_type": "stream",
     "text": [
      "[[1.2969015 1.611728 ]\n",
      " [0.753018  0.8446429]]\n"
     ]
    }
   ],
   "source": [
    "## using placeholder\n",
    "a = tf.placeholder(tf.float32, shape=(2,3))\n",
    "b = tf.placeholder(tf.float32, shape=(3,2))\n",
    "c = tf.matmul(a, b)\n",
    "\n",
    "sess = tf.Session()\n",
    "a_rand = np.random.rand(2,3)\n",
    "b_rand = np.random.rand(3,2)\n",
    "y = sess.run(c, feed_dict={a:a_rand, b:b_rand}) # placeholderへの入力はdictで入れる\n",
    "print(y)"
   ]
  },
  {
   "cell_type": "code",
   "execution_count": 7,
   "metadata": {},
   "outputs": [
    {
     "name": "stdout",
     "output_type": "stream",
     "text": [
      "[[0.8842857  0.77574549 0.98861074]\n",
      " [0.37232397 0.31437067 0.73268384]]\n",
      "[[0.24485716 0.3803722 ]\n",
      " [0.53287641 0.92951049]\n",
      " [0.67468545 0.56069262]]\n"
     ]
    }
   ],
   "source": [
    "print(a_rand)\n",
    "print(b_rand)"
   ]
  },
  {
   "cell_type": "code",
   "execution_count": null,
   "metadata": {},
   "outputs": [],
   "source": []
  }
 ],
 "metadata": {
  "kernelspec": {
   "display_name": "Python 3",
   "language": "python",
   "name": "python3"
  },
  "language_info": {
   "codemirror_mode": {
    "name": "ipython",
    "version": 3
   },
   "file_extension": ".py",
   "mimetype": "text/x-python",
   "name": "python",
   "nbconvert_exporter": "python",
   "pygments_lexer": "ipython3",
   "version": "3.6.4"
  },
  "toc": {
   "base_numbering": 1,
   "nav_menu": {},
   "number_sections": true,
   "sideBar": true,
   "skip_h1_title": false,
   "title_cell": "Table of Contents",
   "title_sidebar": "Contents",
   "toc_cell": false,
   "toc_position": {},
   "toc_section_display": true,
   "toc_window_display": false
  }
 },
 "nbformat": 4,
 "nbformat_minor": 2
}
