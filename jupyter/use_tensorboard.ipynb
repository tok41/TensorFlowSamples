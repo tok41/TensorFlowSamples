{
 "cells": [
  {
   "cell_type": "markdown",
   "metadata": {},
   "source": [
    "# TensorBoardを使う\n",
    "## TensorBoardの利用手順\n",
    "- モデル構築時にログを取得するオペレーションを記載\n",
    "- ログをマージするオペレーションを記載\n",
    "- tf.summary.FileWriterを呼び出してログの出力先と対象グラフを指定\n",
    "- ログを取得するタイミングでマージするオペレーションを実行\n",
    "- 実行結果をFileWriterに追加\n",
    "- 出力されたログをtensorboadコマンドで呼ぶ → ブラウザでアクセス"
   ]
  },
  {
   "cell_type": "code",
   "execution_count": 1,
   "metadata": {
    "scrolled": true
   },
   "outputs": [
    {
     "name": "stderr",
     "output_type": "stream",
     "text": [
      "/home/yoichi/.pyenv/versions/anaconda2-4.3.0/envs/choco3/lib/python3.6/site-packages/h5py/__init__.py:36: FutureWarning: Conversion of the second argument of issubdtype from `float` to `np.floating` is deprecated. In future, it will be treated as `np.float64 == np.dtype(float).type`.\n",
      "  from ._conv import register_converters as _register_converters\n"
     ]
    },
    {
     "name": "stdout",
     "output_type": "stream",
     "text": [
      "WARNING:tensorflow:From <ipython-input-1-d84b2d6a853a>:5: read_data_sets (from tensorflow.contrib.learn.python.learn.datasets.mnist) is deprecated and will be removed in a future version.\n",
      "Instructions for updating:\n",
      "Please use alternatives such as official/mnist/dataset.py from tensorflow/models.\n",
      "WARNING:tensorflow:From /home/yoichi/.pyenv/versions/anaconda2-4.3.0/envs/choco3/lib/python3.6/site-packages/tensorflow/contrib/learn/python/learn/datasets/mnist.py:260: maybe_download (from tensorflow.contrib.learn.python.learn.datasets.base) is deprecated and will be removed in a future version.\n",
      "Instructions for updating:\n",
      "Please write your own downloading logic.\n",
      "WARNING:tensorflow:From /home/yoichi/.pyenv/versions/anaconda2-4.3.0/envs/choco3/lib/python3.6/site-packages/tensorflow/contrib/learn/python/learn/datasets/mnist.py:262: extract_images (from tensorflow.contrib.learn.python.learn.datasets.mnist) is deprecated and will be removed in a future version.\n",
      "Instructions for updating:\n",
      "Please use tf.data to implement this functionality.\n",
      "Extracting data/train-images-idx3-ubyte.gz\n",
      "WARNING:tensorflow:From /home/yoichi/.pyenv/versions/anaconda2-4.3.0/envs/choco3/lib/python3.6/site-packages/tensorflow/contrib/learn/python/learn/datasets/mnist.py:267: extract_labels (from tensorflow.contrib.learn.python.learn.datasets.mnist) is deprecated and will be removed in a future version.\n",
      "Instructions for updating:\n",
      "Please use tf.data to implement this functionality.\n",
      "Extracting data/train-labels-idx1-ubyte.gz\n",
      "WARNING:tensorflow:From /home/yoichi/.pyenv/versions/anaconda2-4.3.0/envs/choco3/lib/python3.6/site-packages/tensorflow/contrib/learn/python/learn/datasets/mnist.py:110: dense_to_one_hot (from tensorflow.contrib.learn.python.learn.datasets.mnist) is deprecated and will be removed in a future version.\n",
      "Instructions for updating:\n",
      "Please use tf.one_hot on tensors.\n",
      "Extracting data/t10k-images-idx3-ubyte.gz\n",
      "Extracting data/t10k-labels-idx1-ubyte.gz\n",
      "WARNING:tensorflow:From /home/yoichi/.pyenv/versions/anaconda2-4.3.0/envs/choco3/lib/python3.6/site-packages/tensorflow/contrib/learn/python/learn/datasets/mnist.py:290: DataSet.__init__ (from tensorflow.contrib.learn.python.learn.datasets.mnist) is deprecated and will be removed in a future version.\n",
      "Instructions for updating:\n",
      "Please use alternatives such as official/mnist/dataset.py from tensorflow/models.\n"
     ]
    }
   ],
   "source": [
    "import tensorflow as tf\n",
    "from tensorflow.examples.tutorials.mnist import input_data\n",
    "\n",
    "# MNISTデータのオブジェクトを呼び出す\n",
    "mnist = input_data.read_data_sets(\"data/\", one_hot=True)\n",
    "\n",
    "# 訓練データの取得\n",
    "# ## ミニバッチを指定して、バッチ分づつデータを取得するオペレーションを作成\n",
    "train_images, train_labels = mnist.train.next_batch(50)\n",
    "\n",
    "# テスト用データの取得\n",
    "test_images = mnist.test.images\n",
    "test_labels = mnist.test.labels"
   ]
  },
  {
   "cell_type": "markdown",
   "metadata": {},
   "source": [
    "## ログ取得オペレーションの例：Image用のログ出力"
   ]
  },
  {
   "cell_type": "code",
   "execution_count": 2,
   "metadata": {},
   "outputs": [
    {
     "data": {
      "text/plain": [
       "<tf.Tensor 'input_data:0' shape=() dtype=string>"
      ]
     },
     "execution_count": 2,
     "metadata": {},
     "output_type": "execute_result"
    }
   ],
   "source": [
    "# 入力層\n",
    "x = tf.placeholder(tf.float32, [None, 784])\n",
    "# ** 入力画像をログに出力\n",
    "img = tf.reshape(x, [-1,28,28,1]) # 784次元ベクトルのデータを行列に整形([batch,w,h,c])\n",
    "tf.summary.image(name=\"input_data\", tensor=img, max_outputs=10)\n",
    "# ** max_outputsは、ログに出力する画像の枚数"
   ]
  },
  {
   "cell_type": "markdown",
   "metadata": {},
   "source": [
    "## ログ取得オペレーション：計算グラフ\n",
    "- 計算グラフはname_scopeをつけて処理単位のまとまり(層など)で管理する"
   ]
  },
  {
   "cell_type": "code",
   "execution_count": 3,
   "metadata": {},
   "outputs": [],
   "source": [
    "# 中間層\n",
    "with tf.name_scope(\"hidden\"):\n",
    "    w_1 = tf.Variable(tf.truncated_normal([784, 64], stddev=0.1), name=\"w1\")\n",
    "    b_1 = tf.Variable(tf.zeros([64]), name=\"b1\")\n",
    "    h_1 = tf.nn.relu(tf.matmul(x, w_1) + b_1)\n",
    "    \n",
    "    # 中間層の重みの分布をログ出力\n",
    "    tf.summary.histogram(\"w_1\", w_1)\n",
    "    # ** 重みを可視化する方法として、重みの分布を見る。\n",
    "\n",
    "# 出力層\n",
    "with tf.name_scope(\"output\"):\n",
    "    w_2 = tf.Variable(tf.truncated_normal([64, 10], stddev=0.1), name=\"w2\")\n",
    "    b_2 = tf.Variable(tf.zeros([10]), name=\"b2\")\n",
    "    out = tf.nn.softmax(tf.matmul(h_1, w_2) + b_2)\n",
    "\n",
    "y = tf.placeholder(tf.float32, [None, 10])\n",
    "\n",
    "# 誤差関数の定義\n",
    "with tf.name_scope(\"loss\"):\n",
    "    loss = tf.reduce_mean(tf.square(y - out))\n",
    "    tf.summary.scalar(\"loss\", loss) # lossを取得するオペレーション\n",
    "\n",
    "# 訓練\n",
    "with tf.name_scope(\"train\"):\n",
    "    train_step = tf.train.GradientDescentOptimizer(0.5).minimize(loss)\n",
    "\n",
    "# 評価\n",
    "with tf.name_scope(\"accuracy\"):\n",
    "    correct = tf.equal(tf.argmax(out,1), tf.argmax(y,1))\n",
    "    accuracy = tf.reduce_mean(tf.cast(correct, tf.float32))\n",
    "    tf.summary.scalar(\"accuracy\", accuracy) # accuracyを取得するオペレーション\n"
   ]
  },
  {
   "cell_type": "markdown",
   "metadata": {},
   "source": [
    "## ログのマージ\n",
    "- ログ取得用のオペレーションを複数書いたので、ログをマージして1度に全てのログを取得したい\n",
    "- マージしないと、それぞれのログを個別に取得する必要がある"
   ]
  },
  {
   "cell_type": "code",
   "execution_count": 4,
   "metadata": {},
   "outputs": [],
   "source": [
    "summary_op = tf.summary.merge_all()"
   ]
  },
  {
   "cell_type": "markdown",
   "metadata": {},
   "source": [
    "## ログの書き込み"
   ]
  },
  {
   "cell_type": "code",
   "execution_count": 5,
   "metadata": {},
   "outputs": [],
   "source": [
    "# 初期化\n",
    "init = tf.global_variables_initializer()\n",
    "\n",
    "# 実行\n",
    "with tf.Session() as sess:\n",
    "    # ** 計算グラフをGraphsに出力\n",
    "    summary_writer = tf.summary.FileWriter(\"logs\", sess.graph)\n",
    "    \n",
    "    sess.run(init)\n",
    "    \n",
    "    #テストデータをロード\n",
    "    test_images = mnist.test.images\n",
    "    test_labels = mnist.test.labels\n",
    "    \n",
    "    for i in range(1000):\n",
    "        step = i + 1\n",
    "        train_images, train_labels = mnist.train.next_batch(50)\n",
    "        sess.run(train_step, feed_dict={x:train_images, y:train_labels})\n",
    "        \n",
    "        if step % 10 == 0:\n",
    "            # ログを取得する処理を実行\n",
    "            summary_str = sess.run(summary_op, feed_dict={x:test_images, y:test_labels})\n",
    "            # ログ情報のプロトコルバッファを書き込む\n",
    "            summary_writer.add_summary(summary_str, step)\n",
    "            \n",
    "            #acc_val = sess.run(accuracy, feed_dict={x:test_images, y:test_labels})\n",
    "            #print('Step %d: accuracy = %.2f'%(step, acc_val))\n",
    "            "
   ]
  },
  {
   "cell_type": "markdown",
   "metadata": {},
   "source": [
    "## ログの確認\n",
    "- 以下のコマンド\n",
    "```\n",
    "$ tensorboard --logdir ./logs/\n",
    "```\n",
    "    - 引数はログディレクトリ\n",
    "    - defaultではポート6006でブラウザから確認できる"
   ]
  },
  {
   "cell_type": "code",
   "execution_count": null,
   "metadata": {},
   "outputs": [],
   "source": []
  }
 ],
 "metadata": {
  "kernelspec": {
   "display_name": "Python 3",
   "language": "python",
   "name": "python3"
  },
  "language_info": {
   "codemirror_mode": {
    "name": "ipython",
    "version": 3
   },
   "file_extension": ".py",
   "mimetype": "text/x-python",
   "name": "python",
   "nbconvert_exporter": "python",
   "pygments_lexer": "ipython3",
   "version": "3.6.4"
  },
  "toc": {
   "base_numbering": 1,
   "nav_menu": {},
   "number_sections": true,
   "sideBar": true,
   "skip_h1_title": false,
   "title_cell": "Table of Contents",
   "title_sidebar": "Contents",
   "toc_cell": false,
   "toc_position": {},
   "toc_section_display": true,
   "toc_window_display": true
  }
 },
 "nbformat": 4,
 "nbformat_minor": 2
}
